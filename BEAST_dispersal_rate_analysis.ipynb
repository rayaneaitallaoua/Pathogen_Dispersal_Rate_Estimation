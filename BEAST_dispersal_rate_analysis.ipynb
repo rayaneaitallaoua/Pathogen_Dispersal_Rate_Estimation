{
 "cells": [
  {
   "metadata": {},
   "cell_type": "markdown",
   "source": [
    "## How is the dispersal rate estimation by BEAST affected by sampling area and dispersal model?\n",
    "\n",
    "This notebook investigates how the **sampling area** and the **underlying dispersal model** influence the accuracy and variability of dispersal rate estimates inferred by BEAST using continuous phylogeographic diffusion models.\n",
    "\n",
    "---\n",
    "\n",
    "### 1. GSpace simulation using various sampling areas\n",
    "\n",
    "We simulate sequence data under controlled spatial population genetic conditions using GSpace. The key variable in this notebook is the **sampling radius** \\( r \\), which defines the sampling area.\n",
    "\n",
    "#### Sampling area:\n",
    "\n",
    "The sampling area is defined as a square located at the center of the lattice with area:\n",
    "\n",
    "\\[\n",
    "A = 2r^2\n",
    "\\]\n",
    "\n",
    "- A larger \\( r \\) results in a broader spatial coverage.\n",
    "- A smaller \\( r \\) means more spatially restricted sampling.\n",
    "\n",
    "We vary \\( r \\in \\{2, 4, 6, 8\\} \\), keeping the total number of sampled individuals constant across runs.\n",
    "\n",
    "#### Parameters (fixed):\n",
    "\n",
    "- Lattice size: 20 × 20\n",
    "- Individuals per node: 30\n",
    "- Sampled individuals: 20 (5 per node)\n",
    "- Chromosome: 1, 1000 bp\n",
    "- Mutation model: HKY\n",
    "- Dispersal model: uniform, maximum distance = 1\n",
    "- Output: FASTA + coordinates in header\n",
    "\n",
    "#### Objective:\n",
    "\n",
    "To assess whether **increasing the sampling area**:\n",
    "\n",
    "- Increases the precision or bias of **diffusion rate estimates**.\n",
    "- Improves the correlation between true and estimated movement distances."
   ],
   "id": "15c33115f3d2f179"
  }
 ],
 "metadata": {
  "kernelspec": {
   "display_name": "Python 3",
   "language": "python",
   "name": "python3"
  },
  "language_info": {
   "codemirror_mode": {
    "name": "ipython",
    "version": 2
   },
   "file_extension": ".py",
   "mimetype": "text/x-python",
   "name": "python",
   "nbconvert_exporter": "python",
   "pygments_lexer": "ipython2",
   "version": "2.7.6"
  }
 },
 "nbformat": 4,
 "nbformat_minor": 5
}
