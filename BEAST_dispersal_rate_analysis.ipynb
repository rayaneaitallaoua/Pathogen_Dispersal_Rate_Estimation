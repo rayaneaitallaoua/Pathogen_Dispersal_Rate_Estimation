{
 "cells": [
  {
   "metadata": {},
   "cell_type": "markdown",
   "source": [
    "## How is the dispersal rate estimation by BEAST affected by sampling area and dispersal model?\n",
    "\n",
    "This notebook investigates how the **sampling area** and the **underlying dispersal model** influence the accuracy and variability of dispersal rate estimates inferred by BEAST using continuous phylogeographic diffusion models.\n",
    "\n",
    "---\n",
    "\n",
    "### 1. GSpace simulation using various sampling areas\n",
    "\n",
    "We simulate sequence data under controlled spatial population genetic conditions using GSpace. The key variable in this notebook is the **sampling radius**  r , which defines the sampling area.\n",
    "\n",
    "#### Sampling area:\n",
    "\n",
    "The sampling area is defined as a square located at the center of the lattice with area:\n",
    "\n",
    "$\n",
    "A = 2r^2\n",
    "$\n",
    "\n",
    "- A larger r results in a broader spatial coverage.\n",
    "- A smaller r means more spatially restricted sampling.\n",
    "\n",
    "We vary $r \\in \\{2, 4, 6, 8\\}$ keeping the total number of sampled individuals constant across runs.\n",
    "\n",
    "#### Parameters (fixed):\n",
    "\n",
    "- Lattice size: 20 × 20\n",
    "- Individuals per node: 30\n",
    "- Sampled nodes: 4\n",
    "- Chromosome: 1, 1000 bp\n",
    "- Mutation model: HKY\n",
    "- Dispersal model: uniform, maximum distance = 1,1\n",
    "- Output: FASTA + coordinates in header\n",
    "\n",
    "#### Objective:\n",
    "\n",
    "To assess whether **increasing the sampling area**:\n",
    "\n",
    "- Increases the precision or bias of **diffusion rate estimates**.\n",
    "- Improves the correlation between true and estimated movement distances."
   ],
   "id": "15c33115f3d2f179"
  },
  {
   "metadata": {},
   "cell_type": "markdown",
   "source": "### Workflow",
   "id": "6f9de5cb1212c27b"
  },
  {
   "metadata": {
    "ExecuteTime": {
     "end_time": "2025-05-02T12:17:13.783128Z",
     "start_time": "2025-05-02T12:17:13.779245Z"
    }
   },
   "cell_type": "code",
   "source": [
    "import shutil\n",
    "from utils.gspace_utils import *\n",
    "from utils.beast_utils import *\n",
    "from utils.file_utils import *\n",
    "\n",
    "g_mutation_rate=0.00001\n",
    "radii = [2, 4, 6, 8]"
   ],
   "id": "fe11f72ce134760",
   "outputs": [],
   "execution_count": 4
  },
  {
   "metadata": {},
   "cell_type": "markdown",
   "source": [
    "#### 1. Set the working directory\n",
    "\n",
    "Set the working where your GSpaceSettings.txt file will be generated. further results of the analysis will be found here as well."
   ],
   "id": "c9c6322712d415c3"
  },
  {
   "metadata": {
    "ExecuteTime": {
     "end_time": "2025-05-02T12:14:08.438651Z",
     "start_time": "2025-05-02T12:14:08.434607Z"
    }
   },
   "cell_type": "code",
   "source": "set_tests_dir()",
   "id": "ca991f99c9e797b7",
   "outputs": [
    {
     "name": "stdout",
     "output_type": "stream",
     "text": [
      "Moved into 'Tests' directory. Current working directory: /Users/ayoubrayaneaitallaoua/Documents/LIRMM/Pathogen_Dispersal_Rate_Estimation/Tests\n"
     ]
    }
   ],
   "execution_count": 2
  },
  {
   "metadata": {},
   "cell_type": "markdown",
   "source": "#### 2. generate GSpace Settings.txt with variable radii",
   "id": "c2bd64faa62e9b25"
  },
  {
   "metadata": {
    "ExecuteTime": {
     "end_time": "2025-05-02T12:14:16.128893Z",
     "start_time": "2025-05-02T12:14:16.122868Z"
    }
   },
   "cell_type": "code",
   "source": [
    "for radius in radii:\n",
    "    generate_gspace_settings_variable_sample(r=radius,mutation_rate=g_mutation_rate)"
   ],
   "id": "1b8a299a2978e303",
   "outputs": [
    {
     "name": "stdout",
     "output_type": "stream",
     "text": [
      "GSpaceSettings_r_2.txt generated with random sampling coordinates in .!\n",
      "GSpaceSettings_r_4.txt generated with random sampling coordinates in .!\n",
      "GSpaceSettings_r_6.txt generated with random sampling coordinates in .!\n",
      "GSpaceSettings_r_8.txt generated with random sampling coordinates in .!\n"
     ]
    }
   ],
   "execution_count": 3
  },
  {
   "metadata": {},
   "cell_type": "markdown",
   "source": "#### 3. run GSpace simulations",
   "id": "97164c71a7322b18"
  },
  {
   "metadata": {
    "ExecuteTime": {
     "end_time": "2025-05-02T12:14:26.130595Z",
     "start_time": "2025-05-02T12:14:26.078834Z"
    }
   },
   "cell_type": "code",
   "source": [
    "for radius in radii:\n",
    "\n",
    "        # make a dir for each radius\n",
    "        os.mkdir(f\"result_r_{radius}\")\n",
    "\n",
    "        # move the GSpacesettings_r_{r}.txt files into their respective directories\n",
    "        shutil.move(\n",
    "            f\"GSpacesettings_r_{radius}.txt\",\n",
    "            f\"result_r_{radius}/GSpacesettings_r_{radius}.txt\")\n",
    "\n",
    "        # change directories for each radius and rename the file\n",
    "        os.chdir(f\"result_r_{radius}\")\n",
    "        os.rename(f\"GSpaceSettings_r_{radius}.txt\",\"GSpaceSettings.txt\")\n",
    "\n",
    "        # run GSpace\n",
    "        run_gspace(gspace_dir=\"../../../GSpace/build/GSpace\")\n",
    "\n",
    "        # go back to Tests dir\n",
    "        os.chdir(\"..\")"
   ],
   "id": "febc0046eb6cfced",
   "outputs": [
    {
     "name": "stdout",
     "output_type": "stream",
     "text": [
      "reading settings file : GSpaceSettings.txt\n",
      "\n",
      "Random assignation 1 chromosome MRCA nucleotidic states. Press any key to resume.\n",
      "\n",
      "\n",
      "==========================================================================\n",
      "         This is  GSpace  v0.1 (Built on Apr 22 2025 at 15:19:09)    \n",
      "               (Virgoulay et al. 2020 Bioinformatics)                       \n",
      "         an exact coalescent simulator of genetic /  genomic data           \n",
      "            under generalized models of isolation by distance               \n",
      "============================================================================\n",
      "Settings summary : Generic output filename is simulated_sequences_r_2\n",
      " Simulation of 1 data sets\n",
      "   with 1 chromosomes / independant loci with 1000 linked sites /  loci each. \n",
      " Mutation model is hky\n",
      "   with a mutation rate of 1e-05 mutations per site per generation.\n",
      "   and a recombination rate of 0 between adjacent sites per generation.\n",
      "Homogeneous sample of size (4x4)*5 = 80 haploid individuals \n",
      "evolving on a 20 x 20 lattice with reflecting boundaries\n",
      "  where each node carries 30 individuals.\n",
      "Dispersal settings are summarized in the simulated_sequences_r_2_GSpace_param_summary.txt file. \n",
      "============================================================================\n",
      "\n",
      "Simulation 1\n",
      "\n",
      "Total execution time  is 0.00602188 seconds\n",
      "\n",
      "Normal ending of GSpace.\n",
      "\n",
      "reading settings file : GSpaceSettings.txt\n",
      "\n",
      "Random assignation 1 chromosome MRCA nucleotidic states. Press any key to resume.\n",
      "\n",
      "\n",
      "==========================================================================\n",
      "         This is  GSpace  v0.1 (Built on Apr 22 2025 at 15:19:09)    \n",
      "               (Virgoulay et al. 2020 Bioinformatics)                       \n",
      "         an exact coalescent simulator of genetic /  genomic data           \n",
      "            under generalized models of isolation by distance               \n",
      "============================================================================\n",
      "Settings summary : Generic output filename is simulated_sequences_r_4\n",
      " Simulation of 1 data sets\n",
      "   with 1 chromosomes / independant loci with 1000 linked sites /  loci each. \n",
      " Mutation model is hky\n",
      "   with a mutation rate of 1e-05 mutations per site per generation.\n",
      "   and a recombination rate of 0 between adjacent sites per generation.\n",
      "Homogeneous sample of size (4x4)*5 = 80 haploid individuals \n",
      "evolving on a 20 x 20 lattice with reflecting boundaries\n",
      "  where each node carries 30 individuals.\n",
      "Dispersal settings are summarized in the simulated_sequences_r_4_GSpace_param_summary.txt file. \n",
      "============================================================================\n",
      "\n",
      "Simulation 1\n",
      "\n",
      "Total execution time  is 0.00535421 seconds\n",
      "\n",
      "Normal ending of GSpace.\n",
      "\n",
      "reading settings file : GSpaceSettings.txt\n",
      "\n",
      "Random assignation 1 chromosome MRCA nucleotidic states. Press any key to resume.\n",
      "\n",
      "\n",
      "==========================================================================\n",
      "         This is  GSpace  v0.1 (Built on Apr 22 2025 at 15:19:09)    \n",
      "               (Virgoulay et al. 2020 Bioinformatics)                       \n",
      "         an exact coalescent simulator of genetic /  genomic data           \n",
      "            under generalized models of isolation by distance               \n",
      "============================================================================\n",
      "Settings summary : Generic output filename is simulated_sequences_r_6\n",
      " Simulation of 1 data sets\n",
      "   with 1 chromosomes / independant loci with 1000 linked sites /  loci each. \n",
      " Mutation model is hky\n",
      "   with a mutation rate of 1e-05 mutations per site per generation.\n",
      "   and a recombination rate of 0 between adjacent sites per generation.\n",
      "Homogeneous sample of size (4x4)*5 = 80 haploid individuals \n",
      "evolving on a 20 x 20 lattice with reflecting boundaries\n",
      "  where each node carries 30 individuals.\n",
      "Dispersal settings are summarized in the simulated_sequences_r_6_GSpace_param_summary.txt file. \n",
      "============================================================================\n",
      "\n",
      "Simulation 1\n",
      "\n",
      "Total execution time  is 0.003548 seconds\n",
      "\n",
      "Normal ending of GSpace.\n",
      "\n",
      "reading settings file : GSpaceSettings.txt\n",
      "\n",
      "Random assignation 1 chromosome MRCA nucleotidic states. Press any key to resume.\n",
      "\n",
      "\n",
      "==========================================================================\n",
      "         This is  GSpace  v0.1 (Built on Apr 22 2025 at 15:19:09)    \n",
      "               (Virgoulay et al. 2020 Bioinformatics)                       \n",
      "         an exact coalescent simulator of genetic /  genomic data           \n",
      "            under generalized models of isolation by distance               \n",
      "============================================================================\n",
      "Settings summary : Generic output filename is simulated_sequences_r_8\n",
      " Simulation of 1 data sets\n",
      "   with 1 chromosomes / independant loci with 1000 linked sites /  loci each. \n",
      " Mutation model is hky\n",
      "   with a mutation rate of 1e-05 mutations per site per generation.\n",
      "   and a recombination rate of 0 between adjacent sites per generation.\n",
      "Homogeneous sample of size (4x4)*5 = 80 haploid individuals \n",
      "evolving on a 20 x 20 lattice with reflecting boundaries\n",
      "  where each node carries 30 individuals.\n",
      "Dispersal settings are summarized in the simulated_sequences_r_8_GSpace_param_summary.txt file. \n",
      "============================================================================\n",
      "\n",
      "Simulation 1\n",
      "\n",
      "Total execution time  is 0.0027185 seconds\n",
      "\n",
      "Normal ending of GSpace.\n",
      "\n"
     ]
    }
   ],
   "execution_count": 4
  },
  {
   "metadata": {},
   "cell_type": "markdown",
   "source": "#### 4. generate BEAST xml file",
   "id": "b909ac4b5244fe49"
  },
  {
   "metadata": {
    "ExecuteTime": {
     "end_time": "2025-05-02T12:17:20.182211Z",
     "start_time": "2025-05-02T12:17:20.151161Z"
    }
   },
   "cell_type": "code",
   "source": [
    "set_tests_dir()\n",
    "\n",
    "for radius in radii:\n",
    "    os.chdir(f\"result_r_{radius}\")\n",
    "    generate_beast_xml(output_xml=f\"r_{radius}.xml\", mutation_rate=g_mutation_rate)\n",
    "    os.chdir(\"..\")"
   ],
   "id": "abca2d146c574a7d",
   "outputs": [
    {
     "name": "stdout",
     "output_type": "stream",
     "text": [
      "Already in the 'Tests' directory!\n",
      "Current working directory: /Users/ayoubrayaneaitallaoua/Documents/LIRMM/Pathogen_Dispersal_Rate_Estimation/Tests\n",
      "For file: simulated_sequences_r_2_Fasta_1.fa BEAST XML generated: r_2.xml\n",
      "For file: simulated_sequences_r_4_Fasta_1.fa BEAST XML generated: r_4.xml\n",
      "For file: simulated_sequences_r_6_Fasta_1.fa BEAST XML generated: r_6.xml\n",
      "For file: simulated_sequences_r_8_Fasta_1.fa BEAST XML generated: r_8.xml\n"
     ]
    }
   ],
   "execution_count": 5
  },
  {
   "metadata": {},
   "cell_type": "markdown",
   "source": "#### run BEAST for each simulation",
   "id": "ae64cfa226b45faf"
  }
 ],
 "metadata": {
  "kernelspec": {
   "display_name": "Python 3",
   "language": "python",
   "name": "python3"
  },
  "language_info": {
   "codemirror_mode": {
    "name": "ipython",
    "version": 2
   },
   "file_extension": ".py",
   "mimetype": "text/x-python",
   "name": "python",
   "nbconvert_exporter": "python",
   "pygments_lexer": "ipython2",
   "version": "2.7.6"
  }
 },
 "nbformat": 4,
 "nbformat_minor": 5
}
