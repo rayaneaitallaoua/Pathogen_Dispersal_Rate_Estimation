{
 "cells": [
  {
   "metadata": {},
   "cell_type": "markdown",
   "source": [
    "## How is the dispersal rate estimation by BEAST affected by sampling area and dispersal model?\n",
    "\n",
    "This notebook investigates how a circular **sampling area** influences the accuracy and variability of dispersal rate estimates inferred by BEAST using continuous phylogeographic diffusion models.\n",
    "\n",
    "---\n",
    "\n",
    "### 1. GSpace simulation using various sampling areas\n",
    "\n",
    "We simulate sequence data under controlled spatial population genetic conditions using GSpace. The key variable in this notebook is the **sampling radius** $r$, which defines the radius of the sampling area starting from the center of the grid.\n",
    "\n",
    "#### Sampling strategy:\n",
    "\n",
    "Sampling is performed in a circular region centered on the lattice midpoint. For each node:\n",
    "\n",
    "-\tA random angle $\\phi \\sim \\mathcal{U}(0, 2\\pi)$ is drawn to ensure isotropic sampling.\n",
    "-\tA random radius $r{\\prime} \\sim \\mathcal{U}(0, r)$ is drawn to achieve uniform density over the area of the circle.\n",
    "-\tUsing trigonometric transformation, polar coordinates are converted to Cartesian:\n",
    "$x = x_{\\text{center}} + r{\\prime} \\cdot \\cos(\\phi)$, $\\quad y = y_{\\text{center}} + r{\\prime} \\cdot \\sin(\\phi)$\n",
    "-\tThe resulting floating-point coordinate is mapped to the nearest integer lattice node via Euclidean distance minimization among the four surrounding nodes.\n",
    "-\tOnly nodes strictly within the lattice boundaries are retained."
   ],
   "id": "713c8af2e6c90759"
  },
  {
   "metadata": {
    "ExecuteTime": {
     "end_time": "2025-05-05T13:13:45.856207Z",
     "start_time": "2025-05-05T13:13:45.850133Z"
    }
   },
   "cell_type": "code",
   "source": [
    "from utils.gspace_utils import *\n",
    "\n",
    "generate_gspace_settings_circular_sample(r=5)"
   ],
   "id": "26bff91dc7cb2b4e",
   "outputs": [
    {
     "name": "stdout",
     "output_type": "stream",
     "text": [
      "GSpaceSettings_r_5.txt generated with circular sampling in .!\n"
     ]
    }
   ],
   "execution_count": 1
  }
 ],
 "metadata": {
  "kernelspec": {
   "display_name": "Python 3",
   "language": "python",
   "name": "python3"
  },
  "language_info": {
   "codemirror_mode": {
    "name": "ipython",
    "version": 2
   },
   "file_extension": ".py",
   "mimetype": "text/x-python",
   "name": "python",
   "nbconvert_exporter": "python",
   "pygments_lexer": "ipython2",
   "version": "2.7.6"
  }
 },
 "nbformat": 4,
 "nbformat_minor": 5
}
