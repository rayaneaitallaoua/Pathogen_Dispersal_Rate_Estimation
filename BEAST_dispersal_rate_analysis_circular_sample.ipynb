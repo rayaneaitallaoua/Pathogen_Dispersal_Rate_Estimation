{
 "cells": [
  {
   "metadata": {},
   "cell_type": "markdown",
   "source": [
    "## How is the dispersal rate estimation by BEAST affected by sampling area and dispersal model?\n",
    "\n",
    "This notebook investigates how a circular **sampling area** influences the accuracy and variability of dispersal rate estimates inferred by BEAST using continuous phylogeographic diffusion models.\n",
    "\n",
    "---\n",
    "\n",
    "### GSpace simulation using various sampling areas\n",
    "\n",
    "We simulate sequence data under controlled spatial population genetic conditions using GSpace. The key variable in this notebook is the **sampling radius** $r$, which defines the radius of the sampling area starting from the center of the grid.\n",
    "\n",
    "#### Sampling strategy:\n",
    "\n",
    "Sampling is performed in a circular region centered on the lattice midpoint. For each node:\n",
    "\n",
    "-\tA random angle $\\phi \\sim \\mathcal{U}(0, 2\\pi)$ is drawn to ensure isotropic sampling.\n",
    "-\tA random radius $r{\\prime} \\sim \\mathcal{U}(0, r)$ is drawn to achieve uniform density over the area of the circle.\n",
    "-\tUsing trigonometric transformation, polar coordinates are converted to Cartesian:\n",
    "$x = x_{\\text{center}} + r{\\prime} \\cdot \\cos(\\phi)$, $\\quad y = y_{\\text{center}} + r{\\prime} \\cdot \\sin(\\phi)$\n",
    "-\tThe resulting floating-point coordinate is mapped to the nearest integer lattice node via Euclidean distance minimization among the four surrounding nodes.\n",
    "-\tOnly nodes strictly within the lattice boundaries are retained.\n",
    "\n",
    "### Workflow:"
   ],
   "id": "713c8af2e6c90759"
  },
  {
   "metadata": {
    "ExecuteTime": {
     "end_time": "2025-05-05T13:53:27.251800Z",
     "start_time": "2025-05-05T13:53:27.145592Z"
    }
   },
   "cell_type": "code",
   "source": [
    "import shutil\n",
    "from utils.gspace_utils import *\n",
    "from utils.beast_utils import *\n",
    "from utils.file_utils import *\n",
    "\n",
    "g_mutation_rate=0.00001\n",
    "radii = [1, 10, 50, 100]"
   ],
   "id": "251b17964f581906",
   "outputs": [],
   "execution_count": 1
  },
  {
   "metadata": {},
   "cell_type": "markdown",
   "source": [
    "#### 1. Set the working directory\n",
    "\n",
    "Set the working where your GSpaceSettings.txt file will be generated. further results of the analysis will be found here as well."
   ],
   "id": "923e7b3a8296ef69"
  },
  {
   "metadata": {
    "ExecuteTime": {
     "end_time": "2025-05-05T13:53:29.270157Z",
     "start_time": "2025-05-05T13:53:29.265754Z"
    }
   },
   "cell_type": "code",
   "source": "set_tests_dir()",
   "id": "3da797750d0604f2",
   "outputs": [
    {
     "name": "stdout",
     "output_type": "stream",
     "text": [
      "Moved into 'Tests' directory. Current working directory: /Users/ayoubrayaneaitallaoua/Documents/LIRMM/Pathogen_Dispersal_Rate_Estimation/Tests\n"
     ]
    }
   ],
   "execution_count": 2
  },
  {
   "metadata": {},
   "cell_type": "markdown",
   "source": "#### 2. generate GSpace Settings.txt with variable radii",
   "id": "87307a7414073cbb"
  },
  {
   "metadata": {
    "ExecuteTime": {
     "end_time": "2025-05-05T13:53:39.690276Z",
     "start_time": "2025-05-05T13:53:39.684673Z"
    }
   },
   "cell_type": "code",
   "source": [
    "for radius in radii:\n",
    "    generate_gspace_settings_circular_sample(r=radius, mutation_rate=g_mutation_rate)"
   ],
   "id": "26bff91dc7cb2b4e",
   "outputs": [
    {
     "name": "stdout",
     "output_type": "stream",
     "text": [
      "GSpaceSettings_r_5.txt generated with circular sampling in .!\n"
     ]
    }
   ],
   "execution_count": 3
  },
  {
   "metadata": {},
   "cell_type": "markdown",
   "source": "#### 3. run GSpace simulations",
   "id": "b8fbe421030ec31e"
  },
  {
   "metadata": {},
   "cell_type": "code",
   "outputs": [],
   "execution_count": null,
   "source": [
    "for radius in radii:\n",
    "\n",
    "        # make a dir for each radius\n",
    "        os.mkdir(f\"result_r_{radius}\")\n",
    "\n",
    "        # move the GSpacesettings_r_{r}.txt files into their respective directories\n",
    "        shutil.move(\n",
    "            f\"GSpacesettings_r_{radius}.txt\",\n",
    "            f\"result_r_{radius}/GSpacesettings_r_{radius}.txt\")\n",
    "\n",
    "        # change directories for each radius and rename the file\n",
    "        os.chdir(f\"result_r_{radius}\")\n",
    "        os.rename(f\"GSpaceSettings_r_{radius}.txt\",\"GSpaceSettings.txt\")\n",
    "\n",
    "        # run GSpace\n",
    "        run_gspace(gspace_dir=\"../../../GSpace/build/GSpace\")\n",
    "\n",
    "        # go back to Tests dir\n",
    "        os.chdir(\"..\")"
   ],
   "id": "aebca67a41197195"
  },
  {
   "metadata": {},
   "cell_type": "markdown",
   "source": "#### 4. generate BEAST XML files",
   "id": "7513f525a19e5de6"
  },
  {
   "metadata": {},
   "cell_type": "code",
   "outputs": [],
   "execution_count": null,
   "source": [
    "set_tests_dir()\n",
    "\n",
    "for radius in radii:\n",
    "    os.chdir(f\"result_r_{radius}\")\n",
    "    generate_beast_xml(output_xml=f\"r_{radius}.xml\", mutation_rate=g_mutation_rate)\n",
    "    os.chdir(\"..\")\n",
    "\n",
    "print(f\"current working directory:{os.getcwd()}\")"
   ],
   "id": "d3a1f5c7313c0374"
  },
  {
   "metadata": {},
   "cell_type": "markdown",
   "source": "#### 5. run BEAST for each simulation",
   "id": "378866ad01ddef66"
  },
  {
   "metadata": {},
   "cell_type": "code",
   "outputs": [],
   "execution_count": null,
   "source": [
    "print(os.getcwd())\n",
    "for radius in radii:\n",
    "    os.chdir(f\"result_r_{radius}\")\n",
    "    run_beast(xml_file=f\"r_{radius}.xml\",beast_path=\"../../../BEAST/bin/beast\")\n",
    "    os.chdir(\"..\")"
   ],
   "id": "c8a1d05d3ed8c445"
  }
 ],
 "metadata": {
  "kernelspec": {
   "display_name": "Python 3",
   "language": "python",
   "name": "python3"
  },
  "language_info": {
   "codemirror_mode": {
    "name": "ipython",
    "version": 2
   },
   "file_extension": ".py",
   "mimetype": "text/x-python",
   "name": "python",
   "nbconvert_exporter": "python",
   "pygments_lexer": "ipython2",
   "version": "2.7.6"
  }
 },
 "nbformat": 4,
 "nbformat_minor": 5
}
